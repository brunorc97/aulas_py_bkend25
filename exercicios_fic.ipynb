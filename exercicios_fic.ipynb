{
 "cells": [
  {
   "cell_type": "markdown",
   "metadata": {
    "id": "7cSjkBggT5jc"
   },
   "source": [
    "# **Exercício 1:**\n",
    "\n",
    "---\n",
    "\n",
    "Faça um programa que calcule a raiz quadrada de um número inteiro fornecido pelo usuário.\n",
    "Utilize a biblioteca *math* para realizar o cálculo.\n",
    "\n",
    "[Link para a Documentação do math](https://docs.python.org/pt-br/3/library/tk.html)\n",
    "\n"
   ]
  },
  {
   "cell_type": "code",
   "execution_count": null,
   "metadata": {
    "id": "Z_bnJxYGT0_o"
   },
   "outputs": [],
   "source": [
    "import math\n",
    "\n",
    "while True:\n",
    "    entrada = input(\"Digite um número inteiro não negativo: \").strip()\n",
    "    try:\n",
    "        numero = int(entrada)\n",
    "        if numero < 0:\n",
    "            print(\"Por favor, informe um número inteiro não negativo.\")\n",
    "            continue\n",
    "        raiz = math.sqrt(numero)\n",
    "        print(f\"A raiz quadrada de {numero} é {raiz:.2f}\")\n",
    "        break\n",
    "    except ValueError:\n",
    "        print(\"Entrada inválida. Tente novamente com um número inteiro.\")\n"
   ]
  },
  {
   "cell_type": "markdown",
   "metadata": {
    "id": "Sa1-LWktUG_z"
   },
   "source": [
    "# **Exercício 2:**\n",
    "\n",
    "---\n",
    "\n",
    "Crie um programa que gere um número aleatório entre 1 e 100 e peça ao usuário para adivinhar qual é esse número. Utilize *randint* da biblioteca *random* para gerar o número aleatório.\n",
    "\n",
    "[Link para a Documentação do random](https://docs.python.org/pt-br/3/library/random.html#random.randint)"
   ]
  },
  {
   "cell_type": "code",
   "execution_count": null,
   "metadata": {
    "id": "9iOJpg0_ULDC"
   },
   "outputs": [],
   "source": [
    "import random\n",
    "\n",
    "numero_secreto = random.randint(1, 100)\n",
    "tentativas = 0\n",
    "\n",
    "while True:\n",
    "    tentativa = input(\"Adivinhe o número (entre 1 e 100): \").strip()\n",
    "    try:\n",
    "        palpite = int(tentativa)\n",
    "    except ValueError:\n",
    "        print(\"Digite um número inteiro válido.\")\n",
    "        continue\n",
    "\n",
    "    if not 1 <= palpite <= 100:\n",
    "        print(\"O palpite deve estar entre 1 e 100.\")\n",
    "        continue\n",
    "\n",
    "    tentativas += 1\n",
    "\n",
    "    if palpite < numero_secreto:\n",
    "        print(\"Muito baixo, tente novamente!\")\n",
    "    elif palpite > numero_secreto:\n",
    "        print(\"Muito alto, tente novamente!\")\n",
    "    else:\n",
    "        print(f\"Parabéns! Você acertou o número {numero_secreto} em {tentativas} tentativa(s).\")\n",
    "        break\n"
   ]
  },
  {
   "cell_type": "markdown",
   "metadata": {
    "id": "vrAwGLX3UXLq"
   },
   "source": [
    "# **Exercício 3:**\n",
    "\n",
    "---\n",
    "Crie um programa que solicite ao usuário um nome de arquivo e, em seguida, leia o conteúdo desse arquivo e conte quantas palavras diferentes existem no texto. Utilize *Counter* da biblioteca *collections* para ajudar na contagem.\n",
    "\n",
    "[Link para a Documentação do collections](https://docs.python.org/3/library/collections.html#counter-objects)\n",
    "\n"
   ]
  },
  {
   "cell_type": "code",
   "execution_count": null,
   "metadata": {
    "id": "7x4SlXfjQcFS"
   },
   "outputs": [],
   "source": [
    "from collections import Counter\n",
    "from pathlib import Path\n",
    "\n",
    "nome_arquivo = input(\"Informe o caminho do arquivo a ser analisado: \").strip()\n",
    "caminho = Path(nome_arquivo).expanduser()\n",
    "\n",
    "if not caminho.exists():\n",
    "    print(\"Arquivo não encontrado. Verifique o caminho informado.\")\n",
    "else:\n",
    "    texto = caminho.read_text(encoding=\"utf-8\")\n",
    "    palavras = [palavra.strip(\".,;:!?\\\"'()[]{}\").lower() for palavra in texto.split()]\n",
    "    contador = Counter(p for p in palavras if p)\n",
    "    print(f\"Quantidade de palavras diferentes: {len(contador)}\")\n",
    "    if contador:\n",
    "        print(\"Top 10 palavras mais frequentes:\")\n",
    "        for palavra, freq in contador.most_common(10):\n",
    "            print(f\"{palavra}: {freq}\")\n"
   ]
  },
  {
   "cell_type": "markdown",
   "metadata": {
    "id": "RA7LpHIHUgcT"
   },
   "source": [
    "# **Exercício 4:**\n",
    "\n",
    "---\n",
    "Crie um programa usando a biblioteca *tkinter* que exiba uma janela com um botão. Quando o botão for clicado, exiba uma mensagem de saudação usando a função *messagebox.showinfo()*.\n",
    "\n",
    "[Link para a Documentação do Tkinter](https://docs.python.org/pt-br/3/library/tk.html)\n",
    "\n",
    "[Site com tutorial em português](https://www.dio.me/articles/o-que-e-e-como-utilizar-a-biblioteca-tkinter-em-python)"
   ]
  },
  {
   "cell_type": "code",
   "execution_count": null,
   "metadata": {
    "id": "01QBl5HWU2xj"
   },
   "outputs": [],
   "source": [
    "import tkinter as tk\n",
    "from tkinter import messagebox\n",
    "\n",
    "def mostrar_saudacao():\n",
    "    messagebox.showinfo(\"Saudação\", \"Olá! Seja bem-vindo ao programa.\")\n",
    "\n",
    "if 'janela_principal' not in globals():\n",
    "    janela_principal = tk.Tk()\n",
    "    janela_principal.title(\"Exercício 4\")\n",
    "    botao = tk.Button(janela_principal, text=\"Clique para cumprimentar\", command=mostrar_saudacao)\n",
    "    botao.pack(padx=20, pady=20)\n",
    "    janela_principal.mainloop()\n",
    "else:\n",
    "    messagebox.showinfo(\"Atenção\", \"A janela principal já foi criada. Reinicie o kernel para executar novamente.\")\n"
   ]
  },
  {
   "cell_type": "markdown",
   "metadata": {
    "id": "qoozLEBUZeDa"
   },
   "source": [
    "# **Exercício 5:**\n",
    "\n",
    "---\n",
    "Crie um programa que utilize a biblioteca *pandas* para ler um arquivo CSV chamado \"dados.csv\".\n",
    "\n",
    "O arquivo contém uma coluna chamada \"idade\". Calcule a média das idades utilizando o método *.mean()* e exiba o resultado.\n",
    "\n",
    "[Link para a Documentação do Pandas](https://pandas.pydata.org/docs/reference/api/pandas.read_csv.html)\n"
   ]
  },
  {
   "cell_type": "code",
   "execution_count": null,
   "metadata": {
    "id": "BzqGllCyQcFT"
   },
   "outputs": [],
   "source": [
    "# Cole o texto abaixo no seu arquivo dados.csv #\n",
    "\n",
    "idade,\n",
    "5,\n",
    "67,\n",
    "56,\n",
    "78,\n",
    "12"
   ]
  },
  {
   "cell_type": "code",
   "execution_count": null,
   "metadata": {
    "id": "56Mo2YGCZjg5"
   },
   "outputs": [],
   "source": [
    "import pandas as pd\n",
    "\n",
    "# faça o código aqui #"
   ]
  },
  {
   "cell_type": "markdown",
   "metadata": {
    "id": "CrGJ4bNpZkl5"
   },
   "source": [
    "import pandas as pd\n",
    "from pathlib import Path\n",
    "\n",
    "arquivo_dados = Path('dados.csv')\n",
    "if not arquivo_dados.exists():\n",
    "    print(\"Arquivo 'dados.csv' não encontrado. Certifique-se de criá-lo antes de executar.\")\n",
    "else:\n",
    "    df = pd.read_csv(arquivo_dados)\n",
    "    media_idade = df['idade'].mean()\n",
    "    print(f\"Média das idades: {media_idade:.2f}\")\n"
   ]
  },
  {
   "metadata": {},
   "cell_type": "code",
   "outputs": [],
   "execution_count": null,
   "source": ""
  },
  {
   "cell_type": "code",
   "execution_count": null,
   "metadata": {
    "id": "ZZYq1YsVQcFU"
   },
   "outputs": [],
   "source": [
    "# Cole o texto abaixo no seu arquivo dados2.csv #\n",
    "\n",
    "nome,pontuacao\n",
    "jose,120\n",
    "maria,200\n",
    "joao,300\n",
    "anderson,400\n",
    "johnny,450"
   ]
  },
  {
   "cell_type": "code",
   "execution_count": null,
   "metadata": {
    "id": "fX2Psu7AaNBT"
   },
   "outputs": [],
   "source": [
    "import pandas as pd\n",
    "import matplotlib.pyplot as plt\n",
    "from pathlib import Path\n",
    "\n",
    "arquivo_dados = Path('dados2.csv')\n",
    "if not arquivo_dados.exists():\n",
    "    print(\"Arquivo 'dados2.csv' não encontrado. Certifique-se de criá-lo antes de executar.\")\n",
    "else:\n",
    "    df = pd.read_csv(arquivo_dados)\n",
    "    fig, ax = plt.subplots(figsize=(8, 4))\n",
    "    ax.bar(df['nome'], df['pontuacao'], color='skyblue')\n",
    "    ax.set_xlabel('Nome')\n",
    "    ax.set_ylabel('Pontuação')\n",
    "    ax.set_title('Pontuação por participante')\n",
    "    plt.xticks(rotation=45, ha='right')\n",
    "    plt.tight_layout()\n",
    "    plt.show()\n"
   ]
  },
  {
   "cell_type": "markdown",
   "metadata": {
    "id": "FcKEWq2RQcFU"
   },
   "source": [
    "# **Exercício 7:**\n",
    "\n",
    "---\n",
    "Crie um programa que liste todos os arquivos em um diretório específico usando os.listdir()\n",
    "\n",
    "[Link para a Documentação do OS](https://docs.python.org/pt-br/3/library/os.html)"
   ]
  },
  {
   "cell_type": "code",
   "execution_count": null,
   "metadata": {
    "id": "uaYE9KFVQcFU"
   },
   "outputs": [],
   "source": [
    "import os\n",
    "from pathlib import Path\n",
    "\n",
    "entrada = input(\"Informe o diretório que deseja listar (pressione Enter para usar o atual): \").strip()\n",
    "diretorio = Path(entrada or '.').expanduser()\n",
    "\n",
    "if diretorio.is_dir():\n",
    "    print(f\"Conteúdo do diretório {diretorio.resolve()}:\")\n",
    "    for nome in sorted(os.listdir(diretorio)):\n",
    "        print(nome)\n",
    "else:\n",
    "    print(\"O caminho informado não é um diretório válido.\")\n"
   ]
  }
 ],
 "metadata": {
  "colab": {
   "provenance": []
  },
  "kernelspec": {
   "display_name": "Python 3 (ipykernel)",
   "language": "python",
   "name": "python3"
  },
  "language_info": {
   "codemirror_mode": {
    "name": "ipython",
    "version": 3
   },
   "file_extension": ".py",
   "mimetype": "text/x-python",
   "name": "python",
   "nbconvert_exporter": "python",
   "pygments_lexer": "ipython3",
   "version": "3.12.1"
  }
 },
 "nbformat": 4,
 "nbformat_minor": 0
}
